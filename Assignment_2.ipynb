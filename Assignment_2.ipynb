{
  "nbformat": 4,
  "nbformat_minor": 0,
  "metadata": {
    "colab": {
      "name": "Assignment_2.ipynb",
      "provenance": [],
      "include_colab_link": true
    },
    "kernelspec": {
      "name": "python3",
      "display_name": "Python 3"
    },
    "accelerator": "GPU"
  },
  "cells": [
    {
      "cell_type": "markdown",
      "metadata": {
        "id": "view-in-github",
        "colab_type": "text"
      },
      "source": [
        "<a href=\"https://colab.research.google.com/github/ngzhankang/Deep-Learning_ca2/blob/main/Assignment_2.ipynb\" target=\"_parent\"><img src=\"https://colab.research.google.com/assets/colab-badge.svg\" alt=\"Open In Colab\"/></a>"
      ]
    },
    {
      "cell_type": "markdown",
      "metadata": {
        "id": "2BYpyxj0Fk5Y"
      },
      "source": [
        "# Assignment 2 - Part A\r\n",
        "Done by : \r\n",
        "- P1935727 Ng Zhan Kang\r\n",
        "- P1935488 Triston Loh\r\n",
        "\r\n",
        "Class of DIT/FT/2B/11"
      ]
    },
    {
      "cell_type": "markdown",
      "metadata": {
        "id": "jw-5Jb2IFo8z"
      },
      "source": [
        "---\r\n",
        "---"
      ]
    },
    {
      "cell_type": "markdown",
      "metadata": {
        "id": "gfuLF6F5Fqfy"
      },
      "source": [
        "### 1.1 Ensuring 0% Util\r\n",
        "\r\n",
        "---\r\n",
        "\r\n",
        "Ensure that our slot give by Google is not utilized yet."
      ]
    },
    {
      "cell_type": "code",
      "metadata": {
        "id": "9BGRQF99FXN0",
        "colab": {
          "base_uri": "https://localhost:8080/"
        },
        "outputId": "1f1746cf-83e4-4e45-f4d1-56bf1040ea5a"
      },
      "source": [
        "# to ensure that the current gpu utilization is 0\r\n",
        "# memory footprint support libraries/code\r\n",
        "!ln -sf /opt/bin/nvidia-smi /usr/bin/nvidia-smi\r\n",
        "!pip install gputil\r\n",
        "!pip install psutil\r\n",
        "!pip install humanize\r\n",
        "import psutil\r\n",
        "import humanize\r\n",
        "\r\n",
        "import os\r\n",
        "import GPUtil as GPU\r\n",
        "GPUs = GPU.getGPUs()\r\n",
        "# XXX: only one GPU on Colab and isn’t guaranteed\r\n",
        "gpu = GPUs[0]\r\n",
        "def printm():\r\n",
        " process = psutil.Process(os.getpid())\r\n",
        " print(\"Gen RAM Free: \" + humanize.naturalsize( psutil.virtual_memory().available ), \" | Proc size: \" + humanize.naturalsize( process.memory_info().rss))\r\n",
        " print(\"GPU RAM Free: {0:.0f}MB | Used: {1:.0f}MB | Util {2:3.0f}% | Total {3:.0f}MB\".format(gpu.memoryFree, gpu.memoryUsed, gpu.memoryUtil*100, gpu.memoryTotal))\r\n",
        "printm() "
      ],
      "execution_count": 2,
      "outputs": [
        {
          "output_type": "stream",
          "text": [
            "Collecting gputil\n",
            "  Downloading https://files.pythonhosted.org/packages/ed/0e/5c61eedde9f6c87713e89d794f01e378cfd9565847d4576fa627d758c554/GPUtil-1.4.0.tar.gz\n",
            "Building wheels for collected packages: gputil\n",
            "  Building wheel for gputil (setup.py) ... \u001b[?25l\u001b[?25hdone\n",
            "  Created wheel for gputil: filename=GPUtil-1.4.0-cp36-none-any.whl size=7411 sha256=072ba51a17013833ae8fcec10af056265a2c4410feb4f9fc3522e7e1bda79000\n",
            "  Stored in directory: /root/.cache/pip/wheels/3d/77/07/80562de4bb0786e5ea186911a2c831fdd0018bda69beab71fd\n",
            "Successfully built gputil\n",
            "Installing collected packages: gputil\n",
            "Successfully installed gputil-1.4.0\n",
            "Requirement already satisfied: psutil in /usr/local/lib/python3.6/dist-packages (5.4.8)\n",
            "Requirement already satisfied: humanize in /usr/local/lib/python3.6/dist-packages (0.5.1)\n",
            "Gen RAM Free: 12.8 GB  | Proc size: 112.4 MB\n",
            "GPU RAM Free: 15079MB | Used: 0MB | Util   0% | Total 15079MB\n"
          ],
          "name": "stdout"
        }
      ]
    },
    {
      "cell_type": "markdown",
      "metadata": {
        "id": "YqrHcr-0FsgA"
      },
      "source": [
        "### 1.2. Forcing Utils To 0% To Get A Clean Cluster\r\n",
        "\r\n",
        "---\r\n",
        "\r\n",
        "Please do not use this step unless the cluster you are allocated to is quite full."
      ]
    },
    {
      "cell_type": "code",
      "metadata": {
        "id": "ZTOEqthPFtzb"
      },
      "source": [
        "## if utilization is > 0, run this code(keep running this cell and the above cell till the util number is 0%):\r\n",
        "## NOTE THAT RUNNING THIS MIGHT KILL GPU SESSION AND RESULT IN DATA LOSS(NOT ADVICABLE TO KEEP ON REUSING)\r\n",
        "# !kill -9 -1"
      ],
      "execution_count": 3,
      "outputs": []
    },
    {
      "cell_type": "markdown",
      "metadata": {
        "id": "KzwbFfRDFvLA"
      },
      "source": [
        "---\r\n",
        "---"
      ]
    },
    {
      "cell_type": "markdown",
      "metadata": {
        "id": "_5Xuk11lFxdF"
      },
      "source": [
        "# 2.Ensuring GPU Is Utilized In Environment"
      ]
    },
    {
      "cell_type": "markdown",
      "metadata": {
        "id": "LUlSke_yFy_u"
      },
      "source": [
        "### 2.1. See the list of available devices\r\n",
        "\r\n",
        "---\r\n",
        "\r\n",
        "This entire section can be omitted if users are not utilizing GPU at all."
      ]
    },
    {
      "cell_type": "code",
      "metadata": {
        "id": "8ayxTCVYFvrc",
        "colab": {
          "base_uri": "https://localhost:8080/"
        },
        "outputId": "89fe0c59-ef29-4123-80ec-4a62de7a312b"
      },
      "source": [
        "from tensorflow.python.client import device_lib\r\n",
        "print(device_lib.list_local_devices())"
      ],
      "execution_count": 4,
      "outputs": [
        {
          "output_type": "stream",
          "text": [
            "[name: \"/device:CPU:0\"\n",
            "device_type: \"CPU\"\n",
            "memory_limit: 268435456\n",
            "locality {\n",
            "}\n",
            "incarnation: 5298387871293458807\n",
            ", name: \"/device:GPU:0\"\n",
            "device_type: \"GPU\"\n",
            "memory_limit: 14638920512\n",
            "locality {\n",
            "  bus_id: 1\n",
            "  links {\n",
            "  }\n",
            "}\n",
            "incarnation: 18195921894130980460\n",
            "physical_device_desc: \"device: 0, name: Tesla T4, pci bus id: 0000:00:04.0, compute capability: 7.5\"\n",
            "]\n"
          ],
          "name": "stdout"
        }
      ]
    },
    {
      "cell_type": "code",
      "metadata": {
        "id": "2HMHDnUiF046",
        "colab": {
          "base_uri": "https://localhost:8080/",
          "height": 35
        },
        "outputId": "4ee38f88-2402-4418-fd46-eed442bad8a1"
      },
      "source": [
        "import tensorflow as tf\r\n",
        "tf.test.gpu_device_name()"
      ],
      "execution_count": 5,
      "outputs": [
        {
          "output_type": "execute_result",
          "data": {
            "application/vnd.google.colaboratory.intrinsic+json": {
              "type": "string"
            },
            "text/plain": [
              "'/device:GPU:0'"
            ]
          },
          "metadata": {
            "tags": []
          },
          "execution_count": 5
        }
      ]
    },
    {
      "cell_type": "code",
      "metadata": {
        "id": "vyQoebJvF2QE",
        "colab": {
          "base_uri": "https://localhost:8080/"
        },
        "outputId": "1b7d36f9-8152-4261-a902-ecf8a55834fa"
      },
      "source": [
        "!nvidia-smi"
      ],
      "execution_count": 6,
      "outputs": [
        {
          "output_type": "stream",
          "text": [
            "Sun Dec 20 13:45:54 2020       \n",
            "+-----------------------------------------------------------------------------+\n",
            "| NVIDIA-SMI 418.67       Driver Version: 418.67       CUDA Version: 10.1     |\n",
            "|-------------------------------+----------------------+----------------------+\n",
            "| GPU  Name        Persistence-M| Bus-Id        Disp.A | Volatile Uncorr. ECC |\n",
            "| Fan  Temp  Perf  Pwr:Usage/Cap|         Memory-Usage | GPU-Util  Compute M. |\n",
            "|===============================+======================+======================|\n",
            "|   0  Tesla T4            Off  | 00000000:00:04.0 Off |                    0 |\n",
            "| N/A   39C    P0    27W /  70W |    227MiB / 15079MiB |      1%      Default |\n",
            "+-------------------------------+----------------------+----------------------+\n",
            "                                                                               \n",
            "+-----------------------------------------------------------------------------+\n",
            "| Processes:                                                       GPU Memory |\n",
            "|  GPU       PID   Type   Process name                             Usage      |\n",
            "|=============================================================================|\n",
            "+-----------------------------------------------------------------------------+\n"
          ],
          "name": "stdout"
        }
      ]
    },
    {
      "cell_type": "markdown",
      "metadata": {
        "id": "wSKJeK-TF0ju"
      },
      "source": [
        "---\r\n",
        "---"
      ]
    },
    {
      "cell_type": "markdown",
      "metadata": {
        "id": "L0S6R2BRF8CT"
      },
      "source": [
        "# 3.Background Information"
      ]
    },
    {
      "cell_type": "markdown",
      "metadata": {
        "id": "zXUod3TUEj28"
      },
      "source": [
        "### 3.1.About The CelebA Dataset\r\n",
        "---"
      ]
    },
    {
      "cell_type": "markdown",
      "metadata": {
        "id": "TVghCYGCE7zV"
      },
      "source": [
        ""
      ]
    },
    {
      "cell_type": "markdown",
      "metadata": {
        "id": "vzqp36BfEz01"
      },
      "source": [
        "### 3.2.CelebA Dataset\r\n",
        "---"
      ]
    },
    {
      "cell_type": "markdown",
      "metadata": {
        "id": "uwrnNBzfE7Lq"
      },
      "source": [
        ""
      ]
    },
    {
      "cell_type": "markdown",
      "metadata": {
        "id": "VHHorNnYE9Ji"
      },
      "source": [
        "---\r\n",
        "---"
      ]
    },
    {
      "cell_type": "markdown",
      "metadata": {
        "id": "goBQn4VDE-2j"
      },
      "source": [
        "# 4.Data Importing"
      ]
    },
    {
      "cell_type": "markdown",
      "metadata": {
        "id": "6ZbRGCO7FEBV"
      },
      "source": [
        "### 4.1.Load the libraries\r\n",
        "---\r\n",
        "Load the necessary libraries for usage in the entire project."
      ]
    },
    {
      "cell_type": "code",
      "metadata": {
        "id": "sUaPaw8bE9oU"
      },
      "source": [
        "# Suppress Future Warnings\r\n",
        "import warnings\r\n",
        "warnings.filterwarnings('ignore')"
      ],
      "execution_count": 7,
      "outputs": []
    },
    {
      "cell_type": "code",
      "metadata": {
        "colab": {
          "base_uri": "https://localhost:8080/"
        },
        "id": "W8hXdBCFF_aK",
        "outputId": "9d7a3ad9-8956-4a34-f3b5-1816ccd5cdb5"
      },
      "source": [
        "# check versions of libraries we are going to use\r\n",
        "%tensorflow_version 2.x\r\n",
        "import os\r\n",
        "import tensorflow\r\n",
        "import sklearn\r\n",
        "import numpy as np\r\n",
        "import pandas as pd\r\n",
        "import seaborn as sns\r\n",
        "import matplotlib\r\n",
        "import platform\r\n",
        "\r\n",
        "message=\"        Versions        \"\r\n",
        "print(\"*\"*len(message))\r\n",
        "print(message)\r\n",
        "print(\"*\"*len(message))\r\n",
        "print(\"Tensorflow version={}\".format(tensorflow.__version__))\r\n",
        "print(\"Keras version={}\".format(tensorflow.keras.__version__))\r\n",
        "print(\"Sklearn version={}\".format(sklearn.__version__))\r\n",
        "print(\"Numpy version={}\".format(np.__version__))\r\n",
        "print(\"Pandas version={}\".format(pd.__version__))\r\n",
        "print(\"Seaborn version={}\".format(sns.__version__))\r\n",
        "print(\"Matplotlib version={}\".format(matplotlib.__version__))\r\n",
        "print(\"Python version={}\".format(platform.python_version()))"
      ],
      "execution_count": 8,
      "outputs": [
        {
          "output_type": "stream",
          "text": [
            "************************\n",
            "        Versions        \n",
            "************************\n",
            "Tensorflow version=2.4.0\n",
            "Keras version=2.4.0\n",
            "Sklearn version=0.22.2.post1\n",
            "Numpy version=1.19.4\n",
            "Pandas version=1.1.5\n",
            "Seaborn version=0.11.0\n",
            "Matplotlib version=3.2.2\n",
            "Python version=3.6.9\n"
          ],
          "name": "stdout"
        }
      ]
    },
    {
      "cell_type": "code",
      "metadata": {
        "id": "-Ed0ti4zF_xT"
      },
      "source": [
        "# download the necessary libraries that is not inside keras library\r\n",
        "\r\n",
        "# start importing necessary libraries\r\n",
        "import tensorflow as tf\r\n",
        "from tensorflow.keras.models import Sequential, load_model\r\n",
        "from tensorflow.keras.layers import Dense, Reshape, Dropout   \r\n",
        "from tensorflow.keras.layers import Conv2D, Flatten, BatchNormalization\r\n",
        "from tensorflow.keras.layers import LeakyReLU\r\n",
        "from tensorflow.keras.layers import AveragePooling2D, MaxPooling2D\r\n",
        "from tensorflow.keras.optimizers import Adam\r\n",
        "\r\n",
        "import pandas as pd\r\n",
        "import matplotlib.pyplot as plt\r\n",
        "import seaborn as sns\r\n",
        "import numpy as np\r\n",
        "import time\r\n",
        "\r\n",
        "# for making graphcial progress bar\r\n",
        "from tqdm import tqdm\r\n",
        "\r\n",
        "# for adding support to different image file type\r\n",
        "from PIL import Image\r\n",
        "\r\n",
        "%matplotlib inline"
      ],
      "execution_count": 9,
      "outputs": []
    },
    {
      "cell_type": "code",
      "metadata": {
        "id": "orLlQsWzSREG"
      },
      "source": [
        "# get the links of the dataset that i have stored in my github repo\r\n",
        "list_attr_celeba_csv_url = 'https://raw.githubusercontent.com/ngzhankang/Deep-Learning_ca2/main/dataset/list_attr_celeba.csv?token=APIZFPVQ6Z5UI3YC5FE4EU275CHRQ'\r\n",
        "list_bbox_celeba_csv_url = 'https://raw.githubusercontent.com/ngzhankang/Deep-Learning_ca2/main/dataset/list_bbox_celeba.csv?token=APIZFPWJZ7ZWPUKX4WYPGOS75CHT2'\r\n",
        "list_eval_partition_csv_url = 'https://raw.githubusercontent.com/ngzhankang/Deep-Learning_ca2/main/dataset/list_eval_partition.csv?token=APIZFPQFHFR2ROVXSXNNLYK75CHVY'\r\n",
        "list_landmarks_align_celeba_csv_url = 'https://raw.githubusercontent.com/ngzhankang/Deep-Learning_ca2/main/dataset/list_landmarks_align_celeba.csv?token=APIZFPQ27MDPHJZ4HABUPVS75CHX2'\r\n",
        "\r\n",
        "# now using the links we load into panda dataframes\r\n",
        "list_attr_celeba_csv = pd.read_csv(list_attr_celeba_csv_url, delimiter=',')\r\n",
        "list_bbox_celeba_csv = pd.read_csv(list_bbox_celeba_csv_url, delimiter=',')\r\n",
        "list_eval_partition_csv = pd.read_csv(list_eval_partition_csv_url, delimiter=',')\r\n",
        "list_landmarks_align_celeba_csv = pd.read_csv(list_landmarks_align_celeba_csv_url, delimiter=',')"
      ],
      "execution_count": 15,
      "outputs": []
    },
    {
      "cell_type": "markdown",
      "metadata": {
        "id": "vIBkRmL-KeTC"
      },
      "source": [
        "### 4.2.Creating `hms_string` class for time recording purposes\r\n",
        "---\r\n",
        "We create `hms_string` class for time recording purposes later on when we train our models, so that we can see the time elapsed."
      ]
    },
    {
      "cell_type": "code",
      "metadata": {
        "id": "C2dRdVM_KTWD"
      },
      "source": [
        "# Nicely formatted time string\r\n",
        "def hms_string(sec_elapsed):\r\n",
        "    h = int(sec_elapsed / (60 * 60))\r\n",
        "    m = int((sec_elapsed % (60 * 60)) / 60)\r\n",
        "    s = sec_elapsed % 60\r\n",
        "    return \"{}:{:>02}:{:>05.2f}\".format(h, m, s)"
      ],
      "execution_count": 16,
      "outputs": []
    },
    {
      "cell_type": "markdown",
      "metadata": {
        "id": "ULEso6NLaC3J"
      },
      "source": [
        "---\r\n",
        "---"
      ]
    },
    {
      "cell_type": "markdown",
      "metadata": {
        "id": "NkkZJMMPaGG4"
      },
      "source": [
        "# 5.Exporatory Data Analysis"
      ]
    },
    {
      "cell_type": "markdown",
      "metadata": {
        "id": "bp8GBgu4aK_W"
      },
      "source": [
        "### 5.1.Basic Data Exploration\r\n",
        "---\r\n",
        "Take a peek look at what is inside the respective dataframes first before we do something to it."
      ]
    },
    {
      "cell_type": "code",
      "metadata": {
        "id": "gphqqCfIZzLp",
        "outputId": "a0b6b2ba-411e-4341-f8bf-439486097cae",
        "colab": {
          "base_uri": "https://localhost:8080/"
        }
      },
      "source": [
        "# csv1\r\n",
        "df1Row, df1Col = list_attr_celeba_csv.shape\r\n",
        "list_attr_celeba_csv.name = 'list_attr_celeba.csv'\r\n",
        "\r\n",
        "# csv2\r\n",
        "df2Row, df2Col = list_bbox_celeba_csv.shape\r\n",
        "list_bbox_celeba_csv.name = 'list_bbox_celeba.csv'\r\n",
        "\r\n",
        "# csv3\r\n",
        "df3Row, df3Col = list_eval_partition_csv.shape\r\n",
        "list_eval_partition_csv.name = 'list_eval_partition.csv'\r\n",
        "\r\n",
        "# csv4\r\n",
        "df4Row, df4Col = list_landmarks_align_celeba_csv.shape\r\n",
        "list_landmarks_align_celeba_csv.name = 'list_landmarks_align_celeba.csv'\r\n",
        "\r\n",
        "# print out the rows and columns for the respective csv files\r\n",
        "print(f'There are {df1Row} rows and {df1Col} columns for {list_attr_celeba_csv.name}')\r\n",
        "print(f'There are {df2Row} rows and {df2Col} columns for {list_bbox_celeba_csv.name}')\r\n",
        "print(f'There are {df3Row} rows and {df3Col} columns for {list_eval_partition_csv.name}')\r\n",
        "print(f'There are {df4Row} rows and {df4Col} columns for {list_landmarks_align_celeba_csv.name}')"
      ],
      "execution_count": 17,
      "outputs": [
        {
          "output_type": "stream",
          "text": [
            "There are 202599 rows and 41 columns for list_attr_celeba.csv\n",
            "There are 202599 rows and 5 columns for list_bbox_celeba.csv\n",
            "There are 202599 rows and 2 columns for list_eval_partition.csv\n",
            "There are 202599 rows and 11 columns for list_landmarks_align_celeba.csv\n"
          ],
          "name": "stdout"
        }
      ]
    },
    {
      "cell_type": "code",
      "metadata": {
        "id": "5cdwu8gicpEq",
        "outputId": "243a3032-9440-45ab-ba84-4a67c9e24eb6",
        "colab": {
          "base_uri": "https://localhost:8080/",
          "height": 224
        }
      },
      "source": [
        "# we shall see the top 5 values for each csv files\r\n",
        "list_attr_celeba_csv.head(5)"
      ],
      "execution_count": 18,
      "outputs": [
        {
          "output_type": "execute_result",
          "data": {
            "text/html": [
              "<div>\n",
              "<style scoped>\n",
              "    .dataframe tbody tr th:only-of-type {\n",
              "        vertical-align: middle;\n",
              "    }\n",
              "\n",
              "    .dataframe tbody tr th {\n",
              "        vertical-align: top;\n",
              "    }\n",
              "\n",
              "    .dataframe thead th {\n",
              "        text-align: right;\n",
              "    }\n",
              "</style>\n",
              "<table border=\"1\" class=\"dataframe\">\n",
              "  <thead>\n",
              "    <tr style=\"text-align: right;\">\n",
              "      <th></th>\n",
              "      <th>image_id</th>\n",
              "      <th>5_o_Clock_Shadow</th>\n",
              "      <th>Arched_Eyebrows</th>\n",
              "      <th>Attractive</th>\n",
              "      <th>Bags_Under_Eyes</th>\n",
              "      <th>Bald</th>\n",
              "      <th>Bangs</th>\n",
              "      <th>Big_Lips</th>\n",
              "      <th>Big_Nose</th>\n",
              "      <th>Black_Hair</th>\n",
              "      <th>Blond_Hair</th>\n",
              "      <th>Blurry</th>\n",
              "      <th>Brown_Hair</th>\n",
              "      <th>Bushy_Eyebrows</th>\n",
              "      <th>Chubby</th>\n",
              "      <th>Double_Chin</th>\n",
              "      <th>Eyeglasses</th>\n",
              "      <th>Goatee</th>\n",
              "      <th>Gray_Hair</th>\n",
              "      <th>Heavy_Makeup</th>\n",
              "      <th>High_Cheekbones</th>\n",
              "      <th>Male</th>\n",
              "      <th>Mouth_Slightly_Open</th>\n",
              "      <th>Mustache</th>\n",
              "      <th>Narrow_Eyes</th>\n",
              "      <th>No_Beard</th>\n",
              "      <th>Oval_Face</th>\n",
              "      <th>Pale_Skin</th>\n",
              "      <th>Pointy_Nose</th>\n",
              "      <th>Receding_Hairline</th>\n",
              "      <th>Rosy_Cheeks</th>\n",
              "      <th>Sideburns</th>\n",
              "      <th>Smiling</th>\n",
              "      <th>Straight_Hair</th>\n",
              "      <th>Wavy_Hair</th>\n",
              "      <th>Wearing_Earrings</th>\n",
              "      <th>Wearing_Hat</th>\n",
              "      <th>Wearing_Lipstick</th>\n",
              "      <th>Wearing_Necklace</th>\n",
              "      <th>Wearing_Necktie</th>\n",
              "      <th>Young</th>\n",
              "    </tr>\n",
              "  </thead>\n",
              "  <tbody>\n",
              "    <tr>\n",
              "      <th>0</th>\n",
              "      <td>000001.jpg</td>\n",
              "      <td>-1</td>\n",
              "      <td>1</td>\n",
              "      <td>1</td>\n",
              "      <td>-1</td>\n",
              "      <td>-1</td>\n",
              "      <td>-1</td>\n",
              "      <td>-1</td>\n",
              "      <td>-1</td>\n",
              "      <td>-1</td>\n",
              "      <td>-1</td>\n",
              "      <td>-1</td>\n",
              "      <td>1</td>\n",
              "      <td>-1</td>\n",
              "      <td>-1</td>\n",
              "      <td>-1</td>\n",
              "      <td>-1</td>\n",
              "      <td>-1</td>\n",
              "      <td>-1</td>\n",
              "      <td>1</td>\n",
              "      <td>1</td>\n",
              "      <td>-1</td>\n",
              "      <td>1</td>\n",
              "      <td>-1</td>\n",
              "      <td>-1</td>\n",
              "      <td>1</td>\n",
              "      <td>-1</td>\n",
              "      <td>-1</td>\n",
              "      <td>1</td>\n",
              "      <td>-1</td>\n",
              "      <td>-1</td>\n",
              "      <td>-1</td>\n",
              "      <td>1</td>\n",
              "      <td>1</td>\n",
              "      <td>-1</td>\n",
              "      <td>1</td>\n",
              "      <td>-1</td>\n",
              "      <td>1</td>\n",
              "      <td>-1</td>\n",
              "      <td>-1</td>\n",
              "      <td>1</td>\n",
              "    </tr>\n",
              "    <tr>\n",
              "      <th>1</th>\n",
              "      <td>000002.jpg</td>\n",
              "      <td>-1</td>\n",
              "      <td>-1</td>\n",
              "      <td>-1</td>\n",
              "      <td>1</td>\n",
              "      <td>-1</td>\n",
              "      <td>-1</td>\n",
              "      <td>-1</td>\n",
              "      <td>1</td>\n",
              "      <td>-1</td>\n",
              "      <td>-1</td>\n",
              "      <td>-1</td>\n",
              "      <td>1</td>\n",
              "      <td>-1</td>\n",
              "      <td>-1</td>\n",
              "      <td>-1</td>\n",
              "      <td>-1</td>\n",
              "      <td>-1</td>\n",
              "      <td>-1</td>\n",
              "      <td>-1</td>\n",
              "      <td>1</td>\n",
              "      <td>-1</td>\n",
              "      <td>1</td>\n",
              "      <td>-1</td>\n",
              "      <td>-1</td>\n",
              "      <td>1</td>\n",
              "      <td>-1</td>\n",
              "      <td>-1</td>\n",
              "      <td>-1</td>\n",
              "      <td>-1</td>\n",
              "      <td>-1</td>\n",
              "      <td>-1</td>\n",
              "      <td>1</td>\n",
              "      <td>-1</td>\n",
              "      <td>-1</td>\n",
              "      <td>-1</td>\n",
              "      <td>-1</td>\n",
              "      <td>-1</td>\n",
              "      <td>-1</td>\n",
              "      <td>-1</td>\n",
              "      <td>1</td>\n",
              "    </tr>\n",
              "    <tr>\n",
              "      <th>2</th>\n",
              "      <td>000003.jpg</td>\n",
              "      <td>-1</td>\n",
              "      <td>-1</td>\n",
              "      <td>-1</td>\n",
              "      <td>-1</td>\n",
              "      <td>-1</td>\n",
              "      <td>-1</td>\n",
              "      <td>1</td>\n",
              "      <td>-1</td>\n",
              "      <td>-1</td>\n",
              "      <td>-1</td>\n",
              "      <td>1</td>\n",
              "      <td>-1</td>\n",
              "      <td>-1</td>\n",
              "      <td>-1</td>\n",
              "      <td>-1</td>\n",
              "      <td>-1</td>\n",
              "      <td>-1</td>\n",
              "      <td>-1</td>\n",
              "      <td>-1</td>\n",
              "      <td>-1</td>\n",
              "      <td>1</td>\n",
              "      <td>-1</td>\n",
              "      <td>-1</td>\n",
              "      <td>1</td>\n",
              "      <td>1</td>\n",
              "      <td>-1</td>\n",
              "      <td>-1</td>\n",
              "      <td>1</td>\n",
              "      <td>-1</td>\n",
              "      <td>-1</td>\n",
              "      <td>-1</td>\n",
              "      <td>-1</td>\n",
              "      <td>-1</td>\n",
              "      <td>1</td>\n",
              "      <td>-1</td>\n",
              "      <td>-1</td>\n",
              "      <td>-1</td>\n",
              "      <td>-1</td>\n",
              "      <td>-1</td>\n",
              "      <td>1</td>\n",
              "    </tr>\n",
              "    <tr>\n",
              "      <th>3</th>\n",
              "      <td>000004.jpg</td>\n",
              "      <td>-1</td>\n",
              "      <td>-1</td>\n",
              "      <td>1</td>\n",
              "      <td>-1</td>\n",
              "      <td>-1</td>\n",
              "      <td>-1</td>\n",
              "      <td>-1</td>\n",
              "      <td>-1</td>\n",
              "      <td>-1</td>\n",
              "      <td>-1</td>\n",
              "      <td>-1</td>\n",
              "      <td>-1</td>\n",
              "      <td>-1</td>\n",
              "      <td>-1</td>\n",
              "      <td>-1</td>\n",
              "      <td>-1</td>\n",
              "      <td>-1</td>\n",
              "      <td>-1</td>\n",
              "      <td>-1</td>\n",
              "      <td>-1</td>\n",
              "      <td>-1</td>\n",
              "      <td>-1</td>\n",
              "      <td>-1</td>\n",
              "      <td>-1</td>\n",
              "      <td>1</td>\n",
              "      <td>-1</td>\n",
              "      <td>-1</td>\n",
              "      <td>1</td>\n",
              "      <td>-1</td>\n",
              "      <td>-1</td>\n",
              "      <td>-1</td>\n",
              "      <td>-1</td>\n",
              "      <td>1</td>\n",
              "      <td>-1</td>\n",
              "      <td>1</td>\n",
              "      <td>-1</td>\n",
              "      <td>1</td>\n",
              "      <td>1</td>\n",
              "      <td>-1</td>\n",
              "      <td>1</td>\n",
              "    </tr>\n",
              "    <tr>\n",
              "      <th>4</th>\n",
              "      <td>000005.jpg</td>\n",
              "      <td>-1</td>\n",
              "      <td>1</td>\n",
              "      <td>1</td>\n",
              "      <td>-1</td>\n",
              "      <td>-1</td>\n",
              "      <td>-1</td>\n",
              "      <td>1</td>\n",
              "      <td>-1</td>\n",
              "      <td>-1</td>\n",
              "      <td>-1</td>\n",
              "      <td>-1</td>\n",
              "      <td>-1</td>\n",
              "      <td>-1</td>\n",
              "      <td>-1</td>\n",
              "      <td>-1</td>\n",
              "      <td>-1</td>\n",
              "      <td>-1</td>\n",
              "      <td>-1</td>\n",
              "      <td>1</td>\n",
              "      <td>-1</td>\n",
              "      <td>-1</td>\n",
              "      <td>-1</td>\n",
              "      <td>-1</td>\n",
              "      <td>1</td>\n",
              "      <td>1</td>\n",
              "      <td>-1</td>\n",
              "      <td>-1</td>\n",
              "      <td>1</td>\n",
              "      <td>-1</td>\n",
              "      <td>-1</td>\n",
              "      <td>-1</td>\n",
              "      <td>-1</td>\n",
              "      <td>-1</td>\n",
              "      <td>-1</td>\n",
              "      <td>-1</td>\n",
              "      <td>-1</td>\n",
              "      <td>1</td>\n",
              "      <td>-1</td>\n",
              "      <td>-1</td>\n",
              "      <td>1</td>\n",
              "    </tr>\n",
              "  </tbody>\n",
              "</table>\n",
              "</div>"
            ],
            "text/plain": [
              "     image_id  5_o_Clock_Shadow  ...  Wearing_Necktie  Young\n",
              "0  000001.jpg                -1  ...               -1      1\n",
              "1  000002.jpg                -1  ...               -1      1\n",
              "2  000003.jpg                -1  ...               -1      1\n",
              "3  000004.jpg                -1  ...               -1      1\n",
              "4  000005.jpg                -1  ...               -1      1\n",
              "\n",
              "[5 rows x 41 columns]"
            ]
          },
          "metadata": {
            "tags": []
          },
          "execution_count": 18
        }
      ]
    },
    {
      "cell_type": "code",
      "metadata": {
        "id": "UsjxyXa9czv6",
        "outputId": "c94856ed-be53-4f76-8a12-b9303c481261",
        "colab": {
          "base_uri": "https://localhost:8080/",
          "height": 204
        }
      },
      "source": [
        "list_bbox_celeba_csv.head(5)"
      ],
      "execution_count": 19,
      "outputs": [
        {
          "output_type": "execute_result",
          "data": {
            "text/html": [
              "<div>\n",
              "<style scoped>\n",
              "    .dataframe tbody tr th:only-of-type {\n",
              "        vertical-align: middle;\n",
              "    }\n",
              "\n",
              "    .dataframe tbody tr th {\n",
              "        vertical-align: top;\n",
              "    }\n",
              "\n",
              "    .dataframe thead th {\n",
              "        text-align: right;\n",
              "    }\n",
              "</style>\n",
              "<table border=\"1\" class=\"dataframe\">\n",
              "  <thead>\n",
              "    <tr style=\"text-align: right;\">\n",
              "      <th></th>\n",
              "      <th>image_id</th>\n",
              "      <th>x_1</th>\n",
              "      <th>y_1</th>\n",
              "      <th>width</th>\n",
              "      <th>height</th>\n",
              "    </tr>\n",
              "  </thead>\n",
              "  <tbody>\n",
              "    <tr>\n",
              "      <th>0</th>\n",
              "      <td>000001.jpg</td>\n",
              "      <td>95</td>\n",
              "      <td>71</td>\n",
              "      <td>226</td>\n",
              "      <td>313</td>\n",
              "    </tr>\n",
              "    <tr>\n",
              "      <th>1</th>\n",
              "      <td>000002.jpg</td>\n",
              "      <td>72</td>\n",
              "      <td>94</td>\n",
              "      <td>221</td>\n",
              "      <td>306</td>\n",
              "    </tr>\n",
              "    <tr>\n",
              "      <th>2</th>\n",
              "      <td>000003.jpg</td>\n",
              "      <td>216</td>\n",
              "      <td>59</td>\n",
              "      <td>91</td>\n",
              "      <td>126</td>\n",
              "    </tr>\n",
              "    <tr>\n",
              "      <th>3</th>\n",
              "      <td>000004.jpg</td>\n",
              "      <td>622</td>\n",
              "      <td>257</td>\n",
              "      <td>564</td>\n",
              "      <td>781</td>\n",
              "    </tr>\n",
              "    <tr>\n",
              "      <th>4</th>\n",
              "      <td>000005.jpg</td>\n",
              "      <td>236</td>\n",
              "      <td>109</td>\n",
              "      <td>120</td>\n",
              "      <td>166</td>\n",
              "    </tr>\n",
              "  </tbody>\n",
              "</table>\n",
              "</div>"
            ],
            "text/plain": [
              "     image_id  x_1  y_1  width  height\n",
              "0  000001.jpg   95   71    226     313\n",
              "1  000002.jpg   72   94    221     306\n",
              "2  000003.jpg  216   59     91     126\n",
              "3  000004.jpg  622  257    564     781\n",
              "4  000005.jpg  236  109    120     166"
            ]
          },
          "metadata": {
            "tags": []
          },
          "execution_count": 19
        }
      ]
    },
    {
      "cell_type": "code",
      "metadata": {
        "id": "P6oQqKqGc3IW",
        "outputId": "0242304c-9fcf-4bcd-8c06-be4552736737",
        "colab": {
          "base_uri": "https://localhost:8080/",
          "height": 204
        }
      },
      "source": [
        "list_eval_partition_csv.head(5)"
      ],
      "execution_count": 20,
      "outputs": [
        {
          "output_type": "execute_result",
          "data": {
            "text/html": [
              "<div>\n",
              "<style scoped>\n",
              "    .dataframe tbody tr th:only-of-type {\n",
              "        vertical-align: middle;\n",
              "    }\n",
              "\n",
              "    .dataframe tbody tr th {\n",
              "        vertical-align: top;\n",
              "    }\n",
              "\n",
              "    .dataframe thead th {\n",
              "        text-align: right;\n",
              "    }\n",
              "</style>\n",
              "<table border=\"1\" class=\"dataframe\">\n",
              "  <thead>\n",
              "    <tr style=\"text-align: right;\">\n",
              "      <th></th>\n",
              "      <th>image_id</th>\n",
              "      <th>partition</th>\n",
              "    </tr>\n",
              "  </thead>\n",
              "  <tbody>\n",
              "    <tr>\n",
              "      <th>0</th>\n",
              "      <td>000001.jpg</td>\n",
              "      <td>0</td>\n",
              "    </tr>\n",
              "    <tr>\n",
              "      <th>1</th>\n",
              "      <td>000002.jpg</td>\n",
              "      <td>0</td>\n",
              "    </tr>\n",
              "    <tr>\n",
              "      <th>2</th>\n",
              "      <td>000003.jpg</td>\n",
              "      <td>0</td>\n",
              "    </tr>\n",
              "    <tr>\n",
              "      <th>3</th>\n",
              "      <td>000004.jpg</td>\n",
              "      <td>0</td>\n",
              "    </tr>\n",
              "    <tr>\n",
              "      <th>4</th>\n",
              "      <td>000005.jpg</td>\n",
              "      <td>0</td>\n",
              "    </tr>\n",
              "  </tbody>\n",
              "</table>\n",
              "</div>"
            ],
            "text/plain": [
              "     image_id  partition\n",
              "0  000001.jpg          0\n",
              "1  000002.jpg          0\n",
              "2  000003.jpg          0\n",
              "3  000004.jpg          0\n",
              "4  000005.jpg          0"
            ]
          },
          "metadata": {
            "tags": []
          },
          "execution_count": 20
        }
      ]
    },
    {
      "cell_type": "code",
      "metadata": {
        "id": "s4w__fpNc5QJ",
        "outputId": "54108955-d2f3-49d0-d07d-afdf4c72bf8b",
        "colab": {
          "base_uri": "https://localhost:8080/",
          "height": 204
        }
      },
      "source": [
        "list_landmarks_align_celeba_csv.head(5)"
      ],
      "execution_count": 21,
      "outputs": [
        {
          "output_type": "execute_result",
          "data": {
            "text/html": [
              "<div>\n",
              "<style scoped>\n",
              "    .dataframe tbody tr th:only-of-type {\n",
              "        vertical-align: middle;\n",
              "    }\n",
              "\n",
              "    .dataframe tbody tr th {\n",
              "        vertical-align: top;\n",
              "    }\n",
              "\n",
              "    .dataframe thead th {\n",
              "        text-align: right;\n",
              "    }\n",
              "</style>\n",
              "<table border=\"1\" class=\"dataframe\">\n",
              "  <thead>\n",
              "    <tr style=\"text-align: right;\">\n",
              "      <th></th>\n",
              "      <th>image_id</th>\n",
              "      <th>lefteye_x</th>\n",
              "      <th>lefteye_y</th>\n",
              "      <th>righteye_x</th>\n",
              "      <th>righteye_y</th>\n",
              "      <th>nose_x</th>\n",
              "      <th>nose_y</th>\n",
              "      <th>leftmouth_x</th>\n",
              "      <th>leftmouth_y</th>\n",
              "      <th>rightmouth_x</th>\n",
              "      <th>rightmouth_y</th>\n",
              "    </tr>\n",
              "  </thead>\n",
              "  <tbody>\n",
              "    <tr>\n",
              "      <th>0</th>\n",
              "      <td>000001.jpg</td>\n",
              "      <td>69</td>\n",
              "      <td>109</td>\n",
              "      <td>106</td>\n",
              "      <td>113</td>\n",
              "      <td>77</td>\n",
              "      <td>142</td>\n",
              "      <td>73</td>\n",
              "      <td>152</td>\n",
              "      <td>108</td>\n",
              "      <td>154</td>\n",
              "    </tr>\n",
              "    <tr>\n",
              "      <th>1</th>\n",
              "      <td>000002.jpg</td>\n",
              "      <td>69</td>\n",
              "      <td>110</td>\n",
              "      <td>107</td>\n",
              "      <td>112</td>\n",
              "      <td>81</td>\n",
              "      <td>135</td>\n",
              "      <td>70</td>\n",
              "      <td>151</td>\n",
              "      <td>108</td>\n",
              "      <td>153</td>\n",
              "    </tr>\n",
              "    <tr>\n",
              "      <th>2</th>\n",
              "      <td>000003.jpg</td>\n",
              "      <td>76</td>\n",
              "      <td>112</td>\n",
              "      <td>104</td>\n",
              "      <td>106</td>\n",
              "      <td>108</td>\n",
              "      <td>128</td>\n",
              "      <td>74</td>\n",
              "      <td>156</td>\n",
              "      <td>98</td>\n",
              "      <td>158</td>\n",
              "    </tr>\n",
              "    <tr>\n",
              "      <th>3</th>\n",
              "      <td>000004.jpg</td>\n",
              "      <td>72</td>\n",
              "      <td>113</td>\n",
              "      <td>108</td>\n",
              "      <td>108</td>\n",
              "      <td>101</td>\n",
              "      <td>138</td>\n",
              "      <td>71</td>\n",
              "      <td>155</td>\n",
              "      <td>101</td>\n",
              "      <td>151</td>\n",
              "    </tr>\n",
              "    <tr>\n",
              "      <th>4</th>\n",
              "      <td>000005.jpg</td>\n",
              "      <td>66</td>\n",
              "      <td>114</td>\n",
              "      <td>112</td>\n",
              "      <td>112</td>\n",
              "      <td>86</td>\n",
              "      <td>119</td>\n",
              "      <td>71</td>\n",
              "      <td>147</td>\n",
              "      <td>104</td>\n",
              "      <td>150</td>\n",
              "    </tr>\n",
              "  </tbody>\n",
              "</table>\n",
              "</div>"
            ],
            "text/plain": [
              "     image_id  lefteye_x  lefteye_y  ...  leftmouth_y  rightmouth_x  rightmouth_y\n",
              "0  000001.jpg         69        109  ...          152           108           154\n",
              "1  000002.jpg         69        110  ...          151           108           153\n",
              "2  000003.jpg         76        112  ...          156            98           158\n",
              "3  000004.jpg         72        113  ...          155           101           151\n",
              "4  000005.jpg         66        114  ...          147           104           150\n",
              "\n",
              "[5 rows x 11 columns]"
            ]
          },
          "metadata": {
            "tags": []
          },
          "execution_count": 21
        }
      ]
    },
    {
      "cell_type": "code",
      "metadata": {
        "id": "8kfRnx9Rc-lq"
      },
      "source": [
        ""
      ],
      "execution_count": null,
      "outputs": []
    }
  ]
}